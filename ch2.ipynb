{
 "metadata": {
  "name": ""
 },
 "nbformat": 3,
 "nbformat_minor": 0,
 "worksheets": [
  {
   "cells": [
    {
     "cell_type": "code",
     "collapsed": false,
     "input": [
      "from math import sqrt\n",
      "import numpy as np\n",
      "import numpy.linalg as LA"
     ],
     "language": "python",
     "metadata": {},
     "outputs": [],
     "prompt_number": 6
    },
    {
     "cell_type": "markdown",
     "metadata": {},
     "source": [
      "### L2 Norm\n",
      "\n",
      "Calculated on vectors of real values"
     ]
    },
    {
     "cell_type": "code",
     "collapsed": false,
     "input": [
      "def l2_norm(vector):\n",
      "    # User defined L2 Norm\n",
      "    return sqrt(sum(vector ** 2))"
     ],
     "language": "python",
     "metadata": {},
     "outputs": [],
     "prompt_number": 7
    },
    {
     "cell_type": "code",
     "collapsed": false,
     "input": [
      "v = np.arange(5)\n",
      "\n",
      "print v\n",
      "\n",
      "l2_norm(v)"
     ],
     "language": "python",
     "metadata": {},
     "outputs": [
      {
       "output_type": "stream",
       "stream": "stdout",
       "text": [
        "[0 1 2 3 4]\n"
       ]
      },
      {
       "metadata": {},
       "output_type": "pyout",
       "prompt_number": 8,
       "text": [
        "5.477225575051661"
       ]
      }
     ],
     "prompt_number": 8
    },
    {
     "cell_type": "code",
     "collapsed": false,
     "input": [
      "# Speed test\n",
      "\n",
      "#%timeit sum(v)    # This is fastest\n",
      "\n",
      "#%timeit v.sum()\n",
      "\n",
      "#%timeit np.sum(v)"
     ],
     "language": "python",
     "metadata": {},
     "outputs": [],
     "prompt_number": 9
    },
    {
     "cell_type": "code",
     "collapsed": false,
     "input": [
      "import numpy.linalg as LA\n",
      "\n",
      "# Numpy builtin L2 norm\n",
      "print LA.norm(v)\n",
      "\n",
      "# builtin L1 norm\n",
      "print LA.norm(v, ord=1)"
     ],
     "language": "python",
     "metadata": {},
     "outputs": [
      {
       "output_type": "stream",
       "stream": "stdout",
       "text": [
        "5.47722557505\n",
        "10\n"
       ]
      }
     ],
     "prompt_number": 10
    },
    {
     "cell_type": "code",
     "collapsed": false,
     "input": [
      "# Speed test\n",
      "\n",
      "#%timeit l2_norm(v)\n",
      "\n",
      "#%timeit LA.norm(v)"
     ],
     "language": "python",
     "metadata": {},
     "outputs": [],
     "prompt_number": 11
    },
    {
     "cell_type": "markdown",
     "metadata": {},
     "source": [
      "No surprising speed differences here."
     ]
    },
    {
     "cell_type": "code",
     "collapsed": false,
     "input": [
      "# Create a matrix\n",
      "\n",
      "m = np.arange(15).reshape((5, 3))\n",
      "\n",
      "print m"
     ],
     "language": "python",
     "metadata": {},
     "outputs": [
      {
       "output_type": "stream",
       "stream": "stdout",
       "text": [
        "[[ 0  1  2]\n",
        " [ 3  4  5]\n",
        " [ 6  7  8]\n",
        " [ 9 10 11]\n",
        " [12 13 14]]\n"
       ]
      }
     ],
     "prompt_number": 12
    },
    {
     "cell_type": "code",
     "collapsed": false,
     "input": [
      "# norms on a matrix\n",
      "\n",
      "# The whole matrix\n",
      "print LA.norm(m)\n",
      "\n",
      "# Column vectors\n",
      "print LA.norm(m, axis=0)"
     ],
     "language": "python",
     "metadata": {},
     "outputs": [
      {
       "output_type": "stream",
       "stream": "stdout",
       "text": [
        "31.8590646441\n",
        "[ 16.43167673  18.30300522  20.24845673]\n"
       ]
      }
     ],
     "prompt_number": 13
    },
    {
     "cell_type": "markdown",
     "metadata": {},
     "source": [
      "### Inner product"
     ]
    },
    {
     "cell_type": "code",
     "collapsed": false,
     "input": [
      "v1 = np.arange(5)\n",
      "\n",
      "print v1\n",
      "\n",
      "v2 = np.ones_like(v1)\n",
      "\n",
      "print v2\n",
      "\n",
      "print 'inner product is %s' % v1.dot(v2)"
     ],
     "language": "python",
     "metadata": {},
     "outputs": [
      {
       "output_type": "stream",
       "stream": "stdout",
       "text": [
        "[0 1 2 3 4]\n",
        "[1 1 1 1 1]\n",
        "inner product is 10\n"
       ]
      }
     ],
     "prompt_number": 14
    },
    {
     "cell_type": "markdown",
     "metadata": {},
     "source": [
      "### Normalized Vectors"
     ]
    },
    {
     "cell_type": "code",
     "collapsed": false,
     "input": [
      "# User defined\n",
      "\n",
      "def user_normalize(vector):\n",
      "    return vector / LA.norm(vector)\n",
      "\n",
      "print user_normalize(v)\n",
      "\n",
      "# Always expect the norm to be 1\n",
      "print LA.norm(user_normalize(v))"
     ],
     "language": "python",
     "metadata": {},
     "outputs": [
      {
       "output_type": "stream",
       "stream": "stdout",
       "text": [
        "[ 0.          0.18257419  0.36514837  0.54772256  0.73029674]\n",
        "1.0\n"
       ]
      }
     ],
     "prompt_number": 15
    },
    {
     "cell_type": "code",
     "collapsed": false,
     "input": [
      "# Scikit learn\n",
      "\n",
      "from sklearn.preprocessing import normalize\n",
      "\n",
      "# Random uniform values\n",
      "m = 5 * np.random.rand(3, 4)\n",
      "m_normed = normalize(m, axis=0)\n",
      "\n",
      "print 'originals: \\n%s' % m\n",
      "\n",
      "print '\\n normalized: \\n%s' % m_normed\n",
      "\n",
      "print '\\n norms of original values: \\n%s' % LA.norm(m, axis=0)\n",
      "\n",
      "print '\\n norms of new values: \\n%s' % LA.norm(m_normed, axis=0)"
     ],
     "language": "python",
     "metadata": {},
     "outputs": [
      {
       "output_type": "stream",
       "stream": "stdout",
       "text": [
        "originals: \n",
        "[[  4.26481605e+00   1.35448307e+00   9.67775631e-01   2.56923875e-01]\n",
        " [  3.53842705e-04   1.68860209e+00   4.43019526e-02   3.75997219e+00]\n",
        " [  4.18448454e+00   1.17315870e+00   3.30624281e+00   3.03834602e+00]]\n",
        "\n",
        " normalized: \n",
        "[[  7.13797319e-01   5.50116627e-01   2.80900876e-01   5.30728577e-02]\n",
        " [  5.92222434e-05   6.85817421e-01   1.28588248e-02   7.76698815e-01]\n",
        " [  7.00352328e-01   4.76472625e-01   9.59650639e-01   6.27632236e-01]]\n",
        "\n",
        " norms of original values: \n",
        "[ 5.97482778  2.46217439  3.44525672  4.84096553]\n",
        "\n",
        " norms of new values: \n",
        "[ 1.  1.  1.  1.]\n"
       ]
      }
     ],
     "prompt_number": 16
    },
    {
     "cell_type": "code",
     "collapsed": false,
     "input": [
      "def project(x, y):\n",
      "    'project the vector x onto y'\n",
      "    return y * x.dot(y) / LA.norm(y)\n",
      "\n",
      "project(np.array([1, 1, 1]), np.array([1, 0, 0]))"
     ],
     "language": "python",
     "metadata": {},
     "outputs": [
      {
       "metadata": {},
       "output_type": "pyout",
       "prompt_number": 17,
       "text": [
        "array([ 1.,  0.,  0.])"
       ]
      }
     ],
     "prompt_number": 17
    },
    {
     "cell_type": "code",
     "collapsed": false,
     "input": [
      "def gs_orthonorm(matrix):\n",
      "    '''\n",
      "    Perform Gram-Schmidt Orthonormalization on a set of vectors contained in a matrix\n",
      "    '''\n",
      "\n",
      "    epsilon = 1e-8\n",
      "\n",
      "    vec_list = [[matrix[:, i].copy(), False] for i in range(matrix.shape[1])]\n",
      "\n",
      "    for vector, flag in vec_list:\n",
      "\n",
      "        if LA.norm(vector) < epsilon:\n",
      "            raise FloatingPointError('Are the vectors linearly independent?')\n",
      "    \n",
      "        # Normalize the vector\n",
      "        vector = vector / LA.norm(vector)  # PROBLEM- NOT UPDATING IN PLACE\n",
      "    \n",
      "        # Set the flag indicating that it's been normalized\n",
      "        flag = True\n",
      "    \n",
      "        for vector2, flag2 in vec_list:\n",
      "        \n",
      "            # looping over vectors not yet updated\n",
      "            if not flag2:\n",
      "            \n",
      "                # update all other vectors\n",
      "                vector2 = vector2 - project(vector2, vector)\n",
      "            \n",
      "                if LA.norm(vector2) < epsilon:\n",
      "                    raise FloatingPointError('Are the vectors linearly independent?')\n",
      "                    \n",
      "    return(np.matrix([x[0] for x in vec_list]).T)"
     ],
     "language": "python",
     "metadata": {},
     "outputs": [],
     "prompt_number": 22
    },
    {
     "cell_type": "code",
     "collapsed": false,
     "input": [
      "m = np.arange(10).reshape((5, 2))\n",
      "\n",
      "m = np.matrix([[1, 0], [0, 1]])\n",
      "\n",
      "print(m, m.shape)\n",
      "\n",
      "gs_orthonorm(m)"
     ],
     "language": "python",
     "metadata": {},
     "outputs": [
      {
       "ename": "ValueError",
       "evalue": "matrices are not aligned",
       "output_type": "pyerr",
       "traceback": [
        "\u001b[0;31m---------------------------------------------------------------------------\u001b[0m\n\u001b[0;31mValueError\u001b[0m                                Traceback (most recent call last)",
        "\u001b[0;32m<ipython-input-26-fdb8d822f5d9>\u001b[0m in \u001b[0;36m<module>\u001b[0;34m()\u001b[0m\n\u001b[1;32m      5\u001b[0m \u001b[0;32mprint\u001b[0m\u001b[0;34m(\u001b[0m\u001b[0mm\u001b[0m\u001b[0;34m,\u001b[0m \u001b[0mm\u001b[0m\u001b[0;34m.\u001b[0m\u001b[0mshape\u001b[0m\u001b[0;34m)\u001b[0m\u001b[0;34m\u001b[0m\u001b[0m\n\u001b[1;32m      6\u001b[0m \u001b[0;34m\u001b[0m\u001b[0m\n\u001b[0;32m----> 7\u001b[0;31m \u001b[0mgs_orthonorm\u001b[0m\u001b[0;34m(\u001b[0m\u001b[0mm\u001b[0m\u001b[0;34m)\u001b[0m\u001b[0;34m\u001b[0m\u001b[0m\n\u001b[0m",
        "\u001b[0;32m<ipython-input-22-4eb600878168>\u001b[0m in \u001b[0;36mgs_orthonorm\u001b[0;34m(matrix)\u001b[0m\n\u001b[1;32m     25\u001b[0m \u001b[0;34m\u001b[0m\u001b[0m\n\u001b[1;32m     26\u001b[0m                 \u001b[0;31m# update all other vectors\u001b[0m\u001b[0;34m\u001b[0m\u001b[0;34m\u001b[0m\u001b[0m\n\u001b[0;32m---> 27\u001b[0;31m                 \u001b[0mvector2\u001b[0m \u001b[0;34m=\u001b[0m \u001b[0mvector2\u001b[0m \u001b[0;34m-\u001b[0m \u001b[0mproject\u001b[0m\u001b[0;34m(\u001b[0m\u001b[0mvector2\u001b[0m\u001b[0;34m,\u001b[0m \u001b[0mvector\u001b[0m\u001b[0;34m)\u001b[0m\u001b[0;34m\u001b[0m\u001b[0m\n\u001b[0m\u001b[1;32m     28\u001b[0m \u001b[0;34m\u001b[0m\u001b[0m\n\u001b[1;32m     29\u001b[0m                 \u001b[0;32mif\u001b[0m \u001b[0mLA\u001b[0m\u001b[0;34m.\u001b[0m\u001b[0mnorm\u001b[0m\u001b[0;34m(\u001b[0m\u001b[0mvector2\u001b[0m\u001b[0;34m)\u001b[0m \u001b[0;34m<\u001b[0m \u001b[0mepsilon\u001b[0m\u001b[0;34m:\u001b[0m\u001b[0;34m\u001b[0m\u001b[0m\n",
        "\u001b[0;32m<ipython-input-17-e11074b7980b>\u001b[0m in \u001b[0;36mproject\u001b[0;34m(x, y)\u001b[0m\n\u001b[1;32m      1\u001b[0m \u001b[0;32mdef\u001b[0m \u001b[0mproject\u001b[0m\u001b[0;34m(\u001b[0m\u001b[0mx\u001b[0m\u001b[0;34m,\u001b[0m \u001b[0my\u001b[0m\u001b[0;34m)\u001b[0m\u001b[0;34m:\u001b[0m\u001b[0;34m\u001b[0m\u001b[0m\n\u001b[1;32m      2\u001b[0m     \u001b[0;34m'project the vector x onto y'\u001b[0m\u001b[0;34m\u001b[0m\u001b[0m\n\u001b[0;32m----> 3\u001b[0;31m     \u001b[0;32mreturn\u001b[0m \u001b[0my\u001b[0m \u001b[0;34m*\u001b[0m \u001b[0mx\u001b[0m\u001b[0;34m.\u001b[0m\u001b[0mdot\u001b[0m\u001b[0;34m(\u001b[0m\u001b[0my\u001b[0m\u001b[0;34m)\u001b[0m \u001b[0;34m/\u001b[0m \u001b[0mLA\u001b[0m\u001b[0;34m.\u001b[0m\u001b[0mnorm\u001b[0m\u001b[0;34m(\u001b[0m\u001b[0my\u001b[0m\u001b[0;34m)\u001b[0m\u001b[0;34m\u001b[0m\u001b[0m\n\u001b[0m\u001b[1;32m      4\u001b[0m \u001b[0;34m\u001b[0m\u001b[0m\n\u001b[1;32m      5\u001b[0m \u001b[0mproject\u001b[0m\u001b[0;34m(\u001b[0m\u001b[0mnp\u001b[0m\u001b[0;34m.\u001b[0m\u001b[0marray\u001b[0m\u001b[0;34m(\u001b[0m\u001b[0;34m[\u001b[0m\u001b[0;36m1\u001b[0m\u001b[0;34m,\u001b[0m \u001b[0;36m1\u001b[0m\u001b[0;34m,\u001b[0m \u001b[0;36m1\u001b[0m\u001b[0;34m]\u001b[0m\u001b[0;34m)\u001b[0m\u001b[0;34m,\u001b[0m \u001b[0mnp\u001b[0m\u001b[0;34m.\u001b[0m\u001b[0marray\u001b[0m\u001b[0;34m(\u001b[0m\u001b[0;34m[\u001b[0m\u001b[0;36m1\u001b[0m\u001b[0;34m,\u001b[0m \u001b[0;36m0\u001b[0m\u001b[0;34m,\u001b[0m \u001b[0;36m0\u001b[0m\u001b[0;34m]\u001b[0m\u001b[0;34m)\u001b[0m\u001b[0;34m)\u001b[0m\u001b[0;34m\u001b[0m\u001b[0m\n",
        "\u001b[0;31mValueError\u001b[0m: matrices are not aligned"
       ]
      },
      {
       "output_type": "stream",
       "stream": "stdout",
       "text": [
        "(matrix([[1, 0],\n",
        "        [0, 1]]), (2, 2))\n"
       ]
      }
     ],
     "prompt_number": 26
    },
    {
     "cell_type": "code",
     "collapsed": false,
     "input": [
      "def gs_orthonorm(matrix):\n",
      "    '''\n",
      "    Gram Schmidt Orthonomalization of the columns in a matrix\n",
      "    '''\n",
      "    for i in range(matrix.shape[1]):\n",
      "        matrix[:, i]\n",
      "    "
     ],
     "language": "python",
     "metadata": {},
     "outputs": []
    },
    {
     "cell_type": "code",
     "collapsed": false,
     "input": [
      "np.matrix(vec_list).T"
     ],
     "language": "python",
     "metadata": {},
     "outputs": []
    },
    {
     "cell_type": "code",
     "collapsed": false,
     "input": [
      "abs(v)"
     ],
     "language": "python",
     "metadata": {},
     "outputs": []
    },
    {
     "cell_type": "code",
     "collapsed": false,
     "input": [],
     "language": "python",
     "metadata": {},
     "outputs": []
    }
   ],
   "metadata": {}
  }
 ]
}