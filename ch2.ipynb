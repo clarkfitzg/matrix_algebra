{
 "metadata": {
  "name": ""
 },
 "nbformat": 3,
 "nbformat_minor": 0,
 "worksheets": [
  {
   "cells": [
    {
     "cell_type": "code",
     "collapsed": false,
     "input": [
      "from math import sqrt\n",
      "import numpy as np\n",
      "import numpy.linalg as LA"
     ],
     "language": "python",
     "metadata": {},
     "outputs": [],
     "prompt_number": 78
    },
    {
     "cell_type": "markdown",
     "metadata": {},
     "source": [
      "### L2 Norm\n",
      "\n",
      "Calculated on vectors of real values"
     ]
    },
    {
     "cell_type": "code",
     "collapsed": false,
     "input": [
      "# User defined L2 Norm\n",
      "\n",
      "def l2_norm(vector):\n",
      "    return sqrt(sum(vector ** 2))"
     ],
     "language": "python",
     "metadata": {},
     "outputs": [],
     "prompt_number": 79
    },
    {
     "cell_type": "code",
     "collapsed": false,
     "input": [
      "v = np.arange(5)\n",
      "\n",
      "print v\n",
      "\n",
      "l2_norm(v)"
     ],
     "language": "python",
     "metadata": {},
     "outputs": [
      {
       "output_type": "stream",
       "stream": "stdout",
       "text": [
        "[0 1 2 3 4]\n"
       ]
      },
      {
       "metadata": {},
       "output_type": "pyout",
       "prompt_number": 80,
       "text": [
        "5.477225575051661"
       ]
      }
     ],
     "prompt_number": 80
    },
    {
     "cell_type": "code",
     "collapsed": false,
     "input": [
      "# Speed test\n",
      "\n",
      "#%timeit sum(v)    # This is fastest\n",
      "\n",
      "#%timeit v.sum()\n",
      "\n",
      "#%timeit np.sum(v)"
     ],
     "language": "python",
     "metadata": {},
     "outputs": [],
     "prompt_number": 81
    },
    {
     "cell_type": "code",
     "collapsed": false,
     "input": [
      "import numpy.linalg as LA\n",
      "\n",
      "# Numpy builtin L2 norm\n",
      "print LA.norm(v)\n",
      "\n",
      "# builtin L1 norm\n",
      "print LA.norm(v, ord=1)"
     ],
     "language": "python",
     "metadata": {},
     "outputs": [
      {
       "output_type": "stream",
       "stream": "stdout",
       "text": [
        "5.47722557505\n",
        "10\n"
       ]
      }
     ],
     "prompt_number": 82
    },
    {
     "cell_type": "code",
     "collapsed": false,
     "input": [
      "# Speed test\n",
      "\n",
      "#%timeit l2_norm(v)\n",
      "\n",
      "#%timeit LA.norm(v)"
     ],
     "language": "python",
     "metadata": {},
     "outputs": [],
     "prompt_number": 83
    },
    {
     "cell_type": "markdown",
     "metadata": {},
     "source": [
      "No surprising speed differences here."
     ]
    },
    {
     "cell_type": "code",
     "collapsed": false,
     "input": [
      "# Create a matrix\n",
      "\n",
      "m = np.arange(15).reshape((5, 3))\n",
      "\n",
      "print m"
     ],
     "language": "python",
     "metadata": {},
     "outputs": [
      {
       "output_type": "stream",
       "stream": "stdout",
       "text": [
        "[[ 0  1  2]\n",
        " [ 3  4  5]\n",
        " [ 6  7  8]\n",
        " [ 9 10 11]\n",
        " [12 13 14]]\n"
       ]
      }
     ],
     "prompt_number": 84
    },
    {
     "cell_type": "code",
     "collapsed": false,
     "input": [
      "# norms on a matrix\n",
      "\n",
      "# The whole matrix\n",
      "print LA.norm(m)\n",
      "\n",
      "# Column vectors\n",
      "print LA.norm(m, axis=0)"
     ],
     "language": "python",
     "metadata": {},
     "outputs": [
      {
       "output_type": "stream",
       "stream": "stdout",
       "text": [
        "31.8590646441\n",
        "[ 16.43167673  18.30300522  20.24845673]\n"
       ]
      }
     ],
     "prompt_number": 85
    },
    {
     "cell_type": "markdown",
     "metadata": {},
     "source": [
      "### Inner product"
     ]
    },
    {
     "cell_type": "code",
     "collapsed": false,
     "input": [
      "v1 = np.arange(5)\n",
      "\n",
      "print v1\n",
      "\n",
      "v2 = np.ones_like(v1)\n",
      "\n",
      "print v2\n",
      "\n",
      "print 'inner product is %s' % v1.dot(v2)"
     ],
     "language": "python",
     "metadata": {},
     "outputs": [
      {
       "output_type": "stream",
       "stream": "stdout",
       "text": [
        "[0 1 2 3 4]\n",
        "[1 1 1 1 1]\n",
        "inner product is 10\n"
       ]
      }
     ],
     "prompt_number": 86
    },
    {
     "cell_type": "markdown",
     "metadata": {},
     "source": [
      "### Normalized Vectors"
     ]
    },
    {
     "cell_type": "code",
     "collapsed": false,
     "input": [
      "# User defined\n",
      "\n",
      "def user_normalize(vector):\n",
      "    return vector / LA.norm(vector)\n",
      "\n",
      "print user_normalize(v)\n",
      "\n",
      "# Always expect the norm to be 1\n",
      "print LA.norm(user_normalize(v))"
     ],
     "language": "python",
     "metadata": {},
     "outputs": [
      {
       "output_type": "stream",
       "stream": "stdout",
       "text": [
        "[ 0.          0.18257419  0.36514837  0.54772256  0.73029674]\n",
        "1.0\n"
       ]
      }
     ],
     "prompt_number": 87
    },
    {
     "cell_type": "code",
     "collapsed": false,
     "input": [
      "# Scikit learn\n",
      "\n",
      "from sklearn.preprocessing import normalize\n",
      "\n",
      "# Random uniform values\n",
      "m = 5 * np.random.rand(3, 4)\n",
      "m_normed = normalize(m, axis=0)\n",
      "\n",
      "print 'originals: \\n%s' % m\n",
      "\n",
      "print '\\n normalized: \\n%s' % m_normed\n",
      "\n",
      "print '\\n norms of original values: \\n%s' % LA.norm(m, axis=0)\n",
      "\n",
      "print '\\n norms of new values: \\n%s' % LA.norm(m_normed, axis=0)"
     ],
     "language": "python",
     "metadata": {},
     "outputs": [
      {
       "output_type": "stream",
       "stream": "stdout",
       "text": [
        "originals: \n",
        "[[ 1.40041412  0.73102031  1.1062251   0.80066509]\n",
        " [ 1.28688589  0.15778893  3.97836886  3.24898111]\n",
        " [ 4.25642014  0.88363294  2.01133778  2.0010466 ]]\n",
        "\n",
        " normalized: \n",
        "[[ 0.30038841  0.63148293  0.24084462  0.20535863]\n",
        " [ 0.27603664  0.13630403  0.86616071  0.83331509]\n",
        " [ 0.91300086  0.76331548  0.43790353  0.51323854]]\n",
        "\n",
        " norms of original values: \n",
        "[ 4.66201109  1.15762482  4.59310705  3.8988627 ]\n",
        "\n",
        " norms of new values: \n",
        "[ 1.  1.  1.  1.]\n"
       ]
      }
     ],
     "prompt_number": 88
    },
    {
     "cell_type": "code",
     "collapsed": false,
     "input": [],
     "language": "python",
     "metadata": {},
     "outputs": [],
     "prompt_number": 88
    },
    {
     "cell_type": "code",
     "collapsed": false,
     "input": [],
     "language": "python",
     "metadata": {},
     "outputs": [],
     "prompt_number": 88
    }
   ],
   "metadata": {}
  }
 ]
}