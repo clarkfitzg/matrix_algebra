{
 "metadata": {
  "name": ""
 },
 "nbformat": 3,
 "nbformat_minor": 0,
 "worksheets": [
  {
   "cells": [
    {
     "cell_type": "markdown",
     "metadata": {},
     "source": [
      "# Matrix Factorizations\n",
      "\n",
      "Matrix factorizations express matrices as products to simplify analysis and computation."
     ]
    },
    {
     "cell_type": "code",
     "collapsed": false,
     "input": [
      "import numpy as np"
     ],
     "language": "python",
     "metadata": {},
     "outputs": [],
     "prompt_number": 1
    },
    {
     "cell_type": "markdown",
     "metadata": {},
     "source": [
      "## Full Rank Factorization\n",
      "\n",
      "Any $n \\times m$ matrix $A$ with rank $r$ may be written\n",
      "\n",
      "$$\n",
      "    A_{n \\times m} = L_{n \\times r} R_{r \\times m}\n",
      "$$\n",
      "\n",
      "where $L$ is of full column rank and R is of full row rank. To get to this result we use permutation matrices $E_{\\pi_1}$ and $E_{\\pi_2}$ to create the matrix\n",
      "\n",
      "$$\n",
      "    B = E_{\\pi_1} A E_{\\pi_2}\n",
      "$$"
     ]
    },
    {
     "cell_type": "code",
     "collapsed": false,
     "input": [
      "a = np.random.randn(5, 5)\n",
      "\n",
      "a"
     ],
     "language": "python",
     "metadata": {},
     "outputs": [
      {
       "metadata": {},
       "output_type": "pyout",
       "prompt_number": 4,
       "text": [
        "array([[ -7.56368781e-01,   1.74162899e-01,  -7.05809324e-01,\n",
        "         -7.77053453e-01,   7.58147585e-01],\n",
        "       [ -3.71953439e-04,   2.42720112e-01,   8.20095767e-01,\n",
        "         -4.50133191e-01,  -8.17255996e-01],\n",
        "       [ -1.31035174e+00,   1.27963573e+00,  -5.62396800e-01,\n",
        "          4.55693799e-02,   3.95716878e-01],\n",
        "       [  1.90761734e-01,   9.02436808e-01,   6.90843330e-01,\n",
        "         -5.70412344e-01,  -9.65340198e-02],\n",
        "       [  6.37983954e-01,  -1.32565825e+00,  -2.47334010e-01,\n",
        "         -8.07001717e-01,  -6.26545815e-01]])"
       ]
      }
     ],
     "prompt_number": 4
    },
    {
     "cell_type": "code",
     "collapsed": false,
     "input": [],
     "language": "python",
     "metadata": {},
     "outputs": []
    }
   ],
   "metadata": {}
  }
 ]
}