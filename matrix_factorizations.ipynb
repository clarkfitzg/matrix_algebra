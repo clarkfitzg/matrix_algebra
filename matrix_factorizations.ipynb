{
 "metadata": {
  "name": "",
  "signature": "sha256:6e58899e72a20869a7e42fdeb4a3237fdfd1d04cb6dd922e79e850fa51ee61c5"
 },
 "nbformat": 3,
 "nbformat_minor": 0,
 "worksheets": [
  {
   "cells": [
    {
     "cell_type": "markdown",
     "metadata": {},
     "source": [
      "# Matrix Factorizations\n",
      "\n",
      "Matrix factorizations express matrices as products to simplify analysis and computation."
     ]
    },
    {
     "cell_type": "code",
     "collapsed": false,
     "input": [
      "import numpy as np"
     ],
     "language": "python",
     "metadata": {},
     "outputs": [],
     "prompt_number": 23
    },
    {
     "cell_type": "markdown",
     "metadata": {},
     "source": [
      "## Full Rank Factorization\n",
      "\n",
      "Any $n \\times m$ matrix $A$ with rank $r$ may be written\n",
      "\n",
      "$$\n",
      "    A_{n \\times m} = L_{n \\times r} R_{r \\times m}\n",
      "$$\n",
      "\n",
      "where $L$ is of full column rank and R is of full row rank. To get to this result we use permutation matrices $E_{\\pi_1}$ and $E_{\\pi_2}$ to create the matrix\n",
      "\n",
      "$$\n",
      "    B = E_{\\pi_1} A E_{\\pi_2}\n",
      "$$\n",
      "\n",
      "This is more practical in proofs than in computations."
     ]
    },
    {
     "cell_type": "markdown",
     "metadata": {},
     "source": [
      "## QR Factorization\n",
      "\n",
      "Any $n \\times m$ matrix $A$ may be written\n",
      "\n",
      "$$\n",
      "    A = QR\n",
      "$$\n",
      "\n",
      "for $Q$ orthonormal and $R$ upper triangular.\n"
     ]
    },
    {
     "cell_type": "code",
     "collapsed": false,
     "input": [
      "from numpy.linalg import qr\n",
      "\n",
      "A = np.random.randint(0, 10, (4, 5))\n",
      "\n",
      "print(a)\n",
      "\n",
      "Q, R = qr(A)\n",
      "\n",
      "print(R)"
     ],
     "language": "python",
     "metadata": {},
     "outputs": [
      {
       "output_type": "stream",
       "stream": "stdout",
       "text": [
        "[[6 0 8 8]\n",
        " [7 1 3 5]\n",
        " [2 6 7 4]\n",
        " [2 8 8 5]]\n",
        "[[ -8.71779789  -4.58831468 -12.38844963 -12.1590339   -8.25896642]\n",
        " [  0.          -8.71477874  -3.23105102  -5.6467901    1.13539737]\n",
        " [  0.          -0.           7.94270893   0.26733375  -0.08149142]\n",
        " [  0.           0.          -0.          -2.8635972   -0.70264191]]\n"
       ]
      }
     ],
     "prompt_number": 24
    },
    {
     "cell_type": "markdown",
     "metadata": {},
     "source": [
      "This shows us that R is indeed upper triangular. Let's verify that Q is orthonormal."
     ]
    },
    {
     "cell_type": "code",
     "collapsed": false,
     "input": [
      "def check_orthonormal(A):\n",
      "    '''\n",
      "    Return true if matrix A is numerically orthonormal\n",
      "    '''\n",
      "    return np.allclose(A.dot(A.T), np.eye(A.shape[0]))\n",
      "\n",
      "\n",
      "check_orthonormal(Q)"
     ],
     "language": "python",
     "metadata": {},
     "outputs": [
      {
       "metadata": {},
       "output_type": "pyout",
       "prompt_number": 25,
       "text": [
        "True"
       ]
      }
     ],
     "prompt_number": 25
    },
    {
     "cell_type": "code",
     "collapsed": false,
     "input": [
      "a = scipy.linalg.orth(np.random.randn(3, 2))\n",
      "a.dot(a.T)"
     ],
     "language": "python",
     "metadata": {},
     "outputs": [
      {
       "metadata": {},
       "output_type": "pyout",
       "prompt_number": 26,
       "text": [
        "array([[ 0.13992953,  0.08784381,  0.33560798],\n",
        "       [ 0.08784381,  0.99102802, -0.03427752],\n",
        "       [ 0.33560798, -0.03427752,  0.86904245]])"
       ]
      }
     ],
     "prompt_number": 26
    },
    {
     "cell_type": "code",
     "collapsed": false,
     "input": [],
     "language": "python",
     "metadata": {},
     "outputs": [],
     "prompt_number": 26
    }
   ],
   "metadata": {}
  }
 ]
}